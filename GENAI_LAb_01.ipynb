{
  "nbformat": 4,
  "nbformat_minor": 0,
  "metadata": {
    "colab": {
      "provenance": [],
      "mount_file_id": "1XBWTB_0Z-cymvwKPFBR0zRZHchkh5Sd5",
      "authorship_tag": "ABX9TyOGm0OLff2B1O68Gn41NcLu",
      "include_colab_link": true
    },
    "kernelspec": {
      "name": "python3",
      "display_name": "Python 3"
    },
    "language_info": {
      "name": "python"
    }
  },
  "cells": [
    {
      "cell_type": "markdown",
      "metadata": {
        "id": "view-in-github",
        "colab_type": "text"
      },
      "source": [
        "<a href=\"https://colab.research.google.com/github/2303A52329-45/GENERATIVE-AI--2025/blob/main/GENAI_LAb_01.ipynb\" target=\"_parent\"><img src=\"https://colab.research.google.com/assets/colab-badge.svg\" alt=\"Open In Colab\"/></a>"
      ]
    },
    {
      "cell_type": "markdown",
      "source": [
        "# Question **1**"
      ],
      "metadata": {
        "id": "rSjeQJGmqedB"
      }
    },
    {
      "cell_type": "code",
      "execution_count": 3,
      "metadata": {
        "id": "cCllByO_k4h8",
        "colab": {
          "base_uri": "https://localhost:8080/"
        },
        "outputId": "d22d5d03-5ef6-45fb-ca1e-b34eaa699300"
      },
      "outputs": [
        {
          "output_type": "stream",
          "name": "stdout",
          "text": [
            "Mean Square Error (MSE): 0.24600000000000147\n",
            "Root Mean Square Error (RMSE): 0.49598387070549127\n",
            "Mean Absolute Percentage Error (MAPE): 1.273333333333337%\n",
            "R-squared (R²): 0.99877\n"
          ]
        }
      ],
      "source": [
        "import numpy as np\n",
        "from sklearn.metrics import mean_squared_error, mean_absolute_error, r2_score\n",
        "measured = np.array([20, 30, 40, 50, 60])\n",
        "predicted = np.array([20.5, 30.3, 40.2, 50.6, 60.7])\n",
        "mse = mean_squared_error(measured, predicted)\n",
        "rmse = np.sqrt(mse)\n",
        "mape = np.mean(np.abs((measured - predicted) / measured)) * 100\n",
        "r2 = r2_score(measured, predicted)\n",
        "print(f\"Mean Square Error (MSE): {mse}\")\n",
        "print(f\"Root Mean Square Error (RMSE): {rmse}\")\n",
        "print(f\"Mean Absolute Percentage Error (MAPE): {mape}%\")\n",
        "print(f\"R-squared (R²): {r2}\")"
      ]
    },
    {
      "cell_type": "markdown",
      "source": [
        "# Question 2"
      ],
      "metadata": {
        "id": "bbWnYR2Ksxf_"
      }
    },
    {
      "cell_type": "code",
      "source": [
        "import numpy as np\n",
        "from sklearn.metrics import mean_squared_error, mean_absolute_error, r2_score\n",
        "measured = np.array([0, 0, 0, 0, 0])\n",
        "predicted = np.array([0, 0, 1, 2, 2])\n",
        "mse = mean_squared_error(measured, predicted)\n",
        "rmse = np.sqrt(mse)\n",
        "mape = np.mean(np.abs((measured - predicted) / measured)) * 100\n",
        "r2 = r2_score(measured, predicted)\n",
        "print(f\"Mean Square Error (MSE): {mse}\")\n",
        "print(f\"Root Mean Square Error (RMSE): {rmse}\")\n",
        "print(f\"Mean Absolute Percentage Error (MAPE): {mape}%\")\n",
        "print(f\"R-squared (R²): {r2}\")"
      ],
      "metadata": {
        "colab": {
          "base_uri": "https://localhost:8080/"
        },
        "id": "YuFio67mrgw_",
        "outputId": "6c482566-30cf-4763-b954-ecc1785bc7e4"
      },
      "execution_count": 4,
      "outputs": [
        {
          "output_type": "stream",
          "name": "stdout",
          "text": [
            "Mean Square Error (MSE): 1.8\n",
            "Root Mean Square Error (RMSE): 1.3416407864998738\n",
            "Mean Absolute Percentage Error (MAPE): nan%\n",
            "R-squared (R²): 0.0\n"
          ]
        },
        {
          "output_type": "stream",
          "name": "stderr",
          "text": [
            "<ipython-input-4-fd2501fcc6ea>:7: RuntimeWarning: divide by zero encountered in divide\n",
            "  mape = np.mean(np.abs((measured - predicted) / measured)) * 100\n",
            "<ipython-input-4-fd2501fcc6ea>:7: RuntimeWarning: invalid value encountered in divide\n",
            "  mape = np.mean(np.abs((measured - predicted) / measured)) * 100\n"
          ]
        }
      ]
    },
    {
      "cell_type": "code",
      "source": [],
      "metadata": {
        "id": "Q_hZioGHsiCK"
      },
      "execution_count": null,
      "outputs": []
    }
  ]
}