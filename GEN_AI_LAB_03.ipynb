{
  "nbformat": 4,
  "nbformat_minor": 0,
  "metadata": {
    "colab": {
      "provenance": [],
      "authorship_tag": "ABX9TyP3QwiRfaNSMczF1sCI+3jy",
      "include_colab_link": true
    },
    "kernelspec": {
      "name": "python3",
      "display_name": "Python 3"
    },
    "language_info": {
      "name": "python"
    }
  },
  "cells": [
    {
      "cell_type": "markdown",
      "metadata": {
        "id": "view-in-github",
        "colab_type": "text"
      },
      "source": [
        "<a href=\"https://colab.research.google.com/github/2303A52329-45/GENERATIVE-AI--2025/blob/main/GEN_AI_LAB_03.ipynb\" target=\"_parent\"><img src=\"https://colab.research.google.com/assets/colab-badge.svg\" alt=\"Open In Colab\"/></a>"
      ]
    },
    {
      "cell_type": "code",
      "source": [
        "def gradient_descent(learning_rate=0.01, max_iters=1000, tolerance=1e-6):\n",
        "    x = 1.0\n",
        "    for _ in range(max_iters):\n",
        "        grad = 20 * x**3 + 6 * x\n",
        "        new_x = x - learning_rate * grad\n",
        "\n",
        "        if abs(new_x - x) < tolerance:\n",
        "            break\n",
        "\n",
        "        x = new_x\n",
        "    return x\n",
        "\n",
        "minimum_x = gradient_descent()\n",
        "print(\"The value of x at which f(x) has a minimum is:\", minimum_x)"
      ],
      "metadata": {
        "colab": {
          "base_uri": "https://localhost:8080/"
        },
        "id": "fvd1vq-tyjHT",
        "outputId": "ebeaf9fe-1e40-41e9-e243-54fad7f5922c"
      },
      "execution_count": 1,
      "outputs": [
        {
          "output_type": "stream",
          "name": "stdout",
          "text": [
            "The value of x at which f(x) has a minimum is: 1.63586104206045e-05\n"
          ]
        }
      ]
    },
    {
      "cell_type": "code",
      "source": [
        "def gradient_descent(f_prime, initial_x, learning_rate, tolerance, max_iterations):\n",
        "    x = initial_x\n",
        "    for i in range(max_iterations):\n",
        "        gradient = f_prime(x)\n",
        "        new_x = x - learning_rate * gradient\n",
        "        if abs(new_x - x) < tolerance:\n",
        "            return new_x, i + 1\n",
        "        x = new_x\n",
        "    return x,\n",
        "def f_prime(x):\n",
        "    return 20*x*x*x + 6*x\n",
        "initial_x = 0\n",
        "learning_rate = 0.1\n",
        "tolerance = 1e-6\n",
        "max_iterations = 1000\n",
        "min_x, iterations = gradient_descent(f_prime, initial_x, learning_rate, tolerance, max_iterations)\n",
        "print(f\"The minimum value is at x = {min_x}, found in {iterations} iterations.\")"
      ],
      "metadata": {
        "colab": {
          "base_uri": "https://localhost:8080/"
        },
        "id": "LPPAZmDe7MWL",
        "outputId": "f27388fc-3ce7-4ce1-a83a-38f4a7aa1a58"
      },
      "execution_count": null,
      "outputs": [
        {
          "output_type": "stream",
          "name": "stdout",
          "text": [
            "The minimum value is at x = 0.0, found in 1 iterations.\n"
          ]
        }
      ]
    },
    {
      "cell_type": "code",
      "source": [
        "import sympy as sp\n",
        "x, y = sp.symbols('x y')\n",
        "f = 3 * x**2 + 5 * sp.exp(-y) + 10\n",
        "f_prime_x = sp.diff(f, x)\n",
        "f_prime_y = sp.diff(f, y)\n",
        "print(f\"f'_x(x, y) = {f_prime_x}\")\n",
        "print(f\"f'_y(x, y) = {f_prime_y}\")\n",
        "def gradient_descent_2d(f_prime_x, f_prime_y, initial_x, initial_y, learning_rate, tolerance, max_iterations):\n",
        "    x_val, y_val = initial_x, initial_y\n",
        "    for i in range(max_iterations):\n",
        "        grad_x = f_prime_x.subs({x: x_val, y: y_val})\n",
        "        grad_y = f_prime_y.subs({x: x_val, y: y_val})\n",
        "        new_x = x_val - learning_rate * grad_x\n",
        "        new_y = y_val - learning_rate * grad_y\n",
        "        if abs(new_x - x_val) < tolerance and abs(new_y - y_val) < tolerance:\n",
        "            return (new_x, new_y), i + 1\n",
        "        x_val, y_val = new_x, new_y\n",
        "    return (x_val, y_val), max_iterations\n",
        "initial_x = 0\n",
        "initial_y = 0\n",
        "learning_rate = 0.1\n",
        "tolerance = 1e-6\n",
        "max_iterations = 1000\n",
        "min_values, iterations = gradient_descent_2d(f_prime_x, f_prime_y, initial_x, initial_y, learning_rate, tolerance, max_iterations)\n",
        "print(f\"The minimum value is at x = {min_values[0]}, y = {min_values[1]}, found in {iterations} iterations.\")"
      ],
      "metadata": {
        "colab": {
          "base_uri": "https://localhost:8080/"
        },
        "id": "UkHsrmbaxrUE",
        "outputId": "e37f62d1-58d1-43f2-f3e5-e9f9217999cf"
      },
      "execution_count": null,
      "outputs": [
        {
          "output_type": "stream",
          "name": "stdout",
          "text": [
            "f'_x(x, y) = 6*x\n",
            "f'_y(x, y) = -5*exp(-y)\n",
            "The minimum value is at x = 0, y = 6.21980920407898, found in 1000 iterations.\n"
          ]
        }
      ]
    },
    {
      "cell_type": "code",
      "source": [
        "def gradient_descent_linear(f_prime_m,f_prime_c,m0,c0,learning_rate=0.01,tolerance=1e-6,max_iter=1000):\n",
        "    m,c=m0,c0\n",
        "    for i in range(max_iter):\n",
        "        grad_m=f_prime_m(m,c)\n",
        "        grad_c=f_prime_c(m,c)\n",
        "        new_m=m-learning_rate*grad_m\n",
        "        new_c=c-learning_rate*grad_c\n",
        "        if abs(new_m-m)<tolerance and abs(new_c-c)<tolerance:\n",
        "            break\n",
        "        m,c=new_m,new_c\n",
        "    return m,c\n",
        "def f_prime_m(m,c):\n",
        "    x,y=1,2\n",
        "    return -2*x*(y-(m*x+c))\n",
        "def f_prime_c(m, c):\n",
        "    x, y = 1, 2\n",
        "    return -2*(y-(m*x+c))\n",
        "m0, c0 = 0.0, 0.0\n",
        "min_m, min_c = gradient_descent_linear(f_prime_m,f_prime_c,m0,c0)\n",
        "print(f\"Optimal values of M and C: {min_m}, {min_c}\")\n"
      ],
      "metadata": {
        "colab": {
          "base_uri": "https://localhost:8080/"
        },
        "id": "9HY3yEMqI3aH",
        "outputId": "4c722638-279b-4391-d199-1b129d9b07f1"
      },
      "execution_count": null,
      "outputs": [
        {
          "output_type": "stream",
          "name": "stdout",
          "text": [
            "Optimal values of M and C: 0.9999754234685202, 0.9999754234685202\n"
          ]
        }
      ]
    },
    {
      "cell_type": "code",
      "source": [],
      "metadata": {
        "id": "dXmG9JAeI4bD"
      },
      "execution_count": null,
      "outputs": []
    }
  ]
}