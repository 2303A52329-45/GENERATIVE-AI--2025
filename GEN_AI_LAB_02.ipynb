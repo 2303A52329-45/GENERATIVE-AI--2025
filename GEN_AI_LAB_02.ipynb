{
  "nbformat": 4,
  "nbformat_minor": 0,
  "metadata": {
    "colab": {
      "provenance": [],
      "authorship_tag": "ABX9TyPyww1ab700GsFBJ7qkR2qV",
      "include_colab_link": true
    },
    "kernelspec": {
      "name": "python3",
      "display_name": "Python 3"
    },
    "language_info": {
      "name": "python"
    }
  },
  "cells": [
    {
      "cell_type": "markdown",
      "metadata": {
        "id": "view-in-github",
        "colab_type": "text"
      },
      "source": [
        "<a href=\"https://colab.research.google.com/github/2303A52329-45/GENERATIVE-AI--2025/blob/main/GEN_AI_LAB_02.ipynb\" target=\"_parent\"><img src=\"https://colab.research.google.com/assets/colab-badge.svg\" alt=\"Open In Colab\"/></a>"
      ]
    },
    {
      "cell_type": "markdown",
      "source": [
        "# Question 1"
      ],
      "metadata": {
        "id": "z1ZX8ci8yIGE"
      }
    },
    {
      "cell_type": "code",
      "execution_count": 3,
      "metadata": {
        "colab": {
          "base_uri": "https://localhost:8080/"
        },
        "id": "v8pTgXnSoWE8",
        "outputId": "3f553b7e-33d9-4f64-cdb6-e5952d32ccef"
      },
      "outputs": [
        {
          "output_type": "stream",
          "name": "stdout",
          "text": [
            "Optimal Solution:\n",
            "Number of units of A: 2\n",
            "Number of units of B: 3\n",
            "Maximum profit: 27\n"
          ]
        }
      ],
      "source": [
        "import numpy as np\n",
        "from scipy.optimize import linprog\n",
        "c = [-6, -5]\n",
        "A = [[1, 1], [3, 2]]\n",
        "b = [5, 12]\n",
        "x_bounds = (0, None)\n",
        "y_bounds = (0, None)\n",
        "result = linprog(c, A_ub=A, b_ub=b, bounds=[x_bounds, y_bounds])\n",
        "print(\"Optimal Solution:\")\n",
        "print(\"Number of units of A:\", round(result.x[0]))\n",
        "print(\"Number of units of B:\", round(result.x[1]))\n",
        "print(\"Maximum profit:\", -round(result.fun))"
      ]
    },
    {
      "cell_type": "markdown",
      "source": [
        "# Question 2"
      ],
      "metadata": {
        "id": "TlZAIrmNyS79"
      }
    },
    {
      "cell_type": "code",
      "source": [
        "import numpy as np\n",
        "from scipy.optimize import linprog\n",
        "c = [-120, -90]\n",
        "A = [[2000, 3000], [30, 20], [1,1]]\n",
        "b = [700000, 1200,110]\n",
        "x_bounds = (0, None)\n",
        "y_bounds = (0, None)\n",
        "result = linprog(c, A_ub=A, b_ub=b, bounds=[x_bounds, y_bounds])\n",
        "print(\"Optimal Solution:\")\n",
        "print(\"Number of hectares of Wheat:\", round(result.x[0]))\n",
        "print(\"Number of hectares of Barley:\", round(result.x[1]))\n",
        "print(\"Maximum profit:\", -round(result.fun))"
      ],
      "metadata": {
        "colab": {
          "base_uri": "https://localhost:8080/"
        },
        "id": "tA60CAhVxhn0",
        "outputId": "9fbe7bbf-cb90-44d5-e4af-0ae7f32b0063"
      },
      "execution_count": 4,
      "outputs": [
        {
          "output_type": "stream",
          "name": "stdout",
          "text": [
            "Optimal Solution:\n",
            "Number of hectares of Wheat: 0\n",
            "Number of hectares of Barley: 60\n",
            "Maximum profit: 5400\n"
          ]
        }
      ]
    },
    {
      "cell_type": "code",
      "source": [],
      "metadata": {
        "id": "vNwSoNCfyF09"
      },
      "execution_count": null,
      "outputs": []
    }
  ]
}